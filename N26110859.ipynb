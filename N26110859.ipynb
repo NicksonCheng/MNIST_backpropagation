{
  "cells": [
    {
      "cell_type": "markdown",
      "metadata": {
        "id": "rlmh1D8ia79e"
      },
      "source": [
        "### 1. Implement the following layers as python functions(both forward and backward propagation)\t\n",
        "* Inner-product layer\n",
        "* Activation layer(Sigmoid or Rectified)\n",
        "* Softmax layer\n",
        "\n",
        "### 2. Implement training and testing process\n",
        "* included cross-validation\n",
        "\n",
        "### 3. Plot epoch-accuracy curves\n"
      ]
    },
    {
      "cell_type": "code",
      "execution_count": null,
      "metadata": {
        "colab": {
          "base_uri": "https://localhost:8080/"
        },
        "id": "jgMAQNAnr_k1",
        "outputId": "d0c7fbe9-4898-4664-f769-f244305acf7d"
      },
      "outputs": [
        {
          "ename": "",
          "evalue": "",
          "output_type": "error",
          "traceback": [
            "\u001b[1;31mRunning cells with 'Python 3.9.6 64-bit' requires ipykernel package.\n",
            "\u001b[1;31mRun the following command to install 'ipykernel' into the Python environment. \n",
            "\u001b[1;31mCommand: 'c:/Python39/python.exe -m pip install ipykernel -U --user --force-reinstall'"
          ]
        }
      ],
      "source": [
        "from google.colab import drive\n",
        "drive.mount('/content/drive')"
      ]
    },
    {
      "cell_type": "code",
      "execution_count": 2,
      "metadata": {
        "colab": {
          "base_uri": "https://localhost:8080/"
        },
        "id": "MUds0dh6WX0G",
        "outputId": "2fb2f1df-449e-40a8-f739-c68a936f9ba1"
      },
      "outputs": [
        {
          "name": "stdout",
          "output_type": "stream",
          "text": [
            "/content/drive/MyDrive/AI_HW/HW1\n",
            "mnist_test.csv  mnist_train.csv  N26110859_Lab1.ipynb\n"
          ]
        }
      ],
      "source": [
        "%cd /content/drive/MyDrive/AI_HW/HW1\n",
        "%ls"
      ]
    },
    {
      "cell_type": "code",
      "execution_count": null,
      "metadata": {
        "id": "ukxBJ3dksMZ-"
      },
      "outputs": [
        {
          "ename": "",
          "evalue": "",
          "output_type": "error",
          "traceback": [
            "\u001b[1;31mRunning cells with 'Python 3.9.6 64-bit' requires ipykernel package.\n",
            "\u001b[1;31mRun the following command to install 'ipykernel' into the Python environment. \n",
            "\u001b[1;31mCommand: 'c:/Python39/python.exe -m pip install ipykernel -U --user --force-reinstall'"
          ]
        }
      ],
      "source": [
        "import numpy as np\n",
        "import matplotlib.pyplot as plt\n",
        "from sklearn.model_selection import train_test_split"
      ]
    },
    {
      "cell_type": "code",
      "execution_count": 4,
      "metadata": {
        "id": "j8seIvepsQ1a"
      },
      "outputs": [],
      "source": [
        "# load MNIST dataset \n",
        "image_size = 28           # width and length\n",
        "no_of_different_labels = 10     #  i.e. 0, 1, 2, 3, ..., 9\n",
        "image_pixels = image_size * image_size\n",
        "train_data = np.loadtxt(\"mnist_train.csv\", delimiter=\",\")\n",
        "test_data = np.loadtxt(\"mnist_test.csv\", delimiter=\",\") \n",
        "\n",
        "# data preprocessing\n",
        "\n",
        "# map pixels information from range(0, 255) to range(0.01, 1)\n",
        "fac = 0.99 / 255\n",
        "train_imgs = np.asfarray(train_data[:, 1:]) * fac + 0.01\n",
        "test_imgs = np.asfarray(test_data[:, 1:]) * fac + 0.01\n",
        "\n",
        "train_labels = np.asfarray(train_data[:, :1])\n",
        "test_labels = np.asfarray(test_data[:, :1])\n",
        "\n",
        "lr = np.arange(no_of_different_labels)\n",
        "\n",
        "# transform labels into one hot representation\n",
        "train_labels_one_hot = (lr==train_labels).astype(np.float64)\n",
        "test_labels_one_hot = (lr==test_labels).astype(np.float64)\n"
      ]
    },
    {
      "cell_type": "code",
      "execution_count": 5,
      "metadata": {
        "colab": {
          "base_uri": "https://localhost:8080/"
        },
        "id": "UBNzejJCY2Xc",
        "outputId": "93923bc1-a76c-4ea6-d0d1-27195a0915a1"
      },
      "outputs": [
        {
          "name": "stdout",
          "output_type": "stream",
          "text": [
            "785 (10000, 785)\n",
            "(10,)\n"
          ]
        }
      ],
      "source": [
        "print(len(train_data[0]),test_data.shape)\n",
        "#print(test_data[0])\n",
        "print(test_labels_one_hot[0].shape)"
      ]
    },
    {
      "cell_type": "code",
      "execution_count": 6,
      "metadata": {
        "colab": {
          "base_uri": "https://localhost:8080/"
        },
        "id": "8yExx60TCWuq",
        "outputId": "9fca1d9c-5aa2-4c27-8ab3-83d0ea832ac0"
      },
      "outputs": [
        {
          "name": "stdout",
          "output_type": "stream",
          "text": [
            "(48000, 785) (12000, 785)\n"
          ]
        }
      ],
      "source": [
        "# Separate train_imgs, train_labels into training and validation\n",
        "x_train,x_val,y_train,y_val=train_test_split(train_data,train_labels_one_hot,test_size=0.2,random_state=9)\n",
        "print(x_train.shape,x_val.shape)"
      ]
    },
    {
      "cell_type": "code",
      "execution_count": 12,
      "metadata": {
        "colab": {
          "base_uri": "https://localhost:8080/"
        },
        "id": "YNPXvLZ90NWy",
        "outputId": "0708b6e8-638f-43e4-e3ea-57997b128b15"
      },
      "outputs": [
        {
          "name": "stdout",
          "output_type": "stream",
          "text": [
            "[[0. 0. 0. 0. 0. 0. 0. 0. 0. 0. 0. 0. 0. 0. 0. 0. 0. 0. 0. 0. 0. 0. 0. 0.\n",
            "  0. 0. 0. 0. 0. 0. 0. 0. 0. 0. 0. 0. 0. 0. 0. 0. 0. 0. 0. 0. 0. 0. 0. 0.\n",
            "  0. 0. 0. 0. 0. 0. 0. 0. 0. 0. 0. 0. 0. 0. 0. 0. 0. 0. 0. 0. 0. 0. 0. 0.\n",
            "  0. 0. 0. 0. 0. 0. 0. 0. 0. 0. 0. 0. 0. 0. 0. 0. 0. 0. 0. 0. 0. 0. 0. 0.\n",
            "  0. 0. 0. 0.]]\n"
          ]
        }
      ],
      "source": [
        "learning_rate=0.3\n",
        "epochs=1\n",
        "input_size=len(train_data[0])\n",
        "hidden_size=100\n",
        "output_size=10\n",
        "np.random.seed(10)\n",
        "# Weight Initialization with Xavier/He : W2(hidden layer)\n",
        "W2 = np.random.randn(input_size,hidden_size) / np.sqrt(input_size/2)\n",
        "b2 = np.random.rand(hidden_size)      \n",
        "\n",
        "# Weight Initialization Xavier/He : W3(output layer)\n",
        "W3 = np.random.randn(hidden_size,output_size) / np.sqrt(hidden_size/2)\n",
        "b3 = np.random.rand(output_size)  \n",
        "\n",
        "\n",
        "# initialize A3,Z3: A3 is sigmid(Z2)\n",
        "Z3=np.zeros([1,output_size])\n",
        "A3=np.zeros([1,output_size])\n",
        "# initialize A2,Z2: A2 is sigmoid(Z1)\n",
        "Z2=np.zeros([1,hidden_size])\n",
        "A2=np.zeros([1,hidden_size])\n",
        "\n",
        "# initialize A1,Z1\n",
        "Z1=np.zeros([1,input_size])\n",
        "A1=np.zeros([1,input_size])\n",
        "\n",
        "print(np.dot(A1,W2))"
      ]
    },
    {
      "cell_type": "code",
      "execution_count": null,
      "metadata": {
        "id": "v164Rtl4vDN9"
      },
      "outputs": [],
      "source": [
        "#layer definition\n",
        "def InnerProduct_ForProp(x,W,b):\n",
        "    y=W*x+b\n",
        "    return y\n",
        "\n",
        "def InnerProduct_BackProp(dEdy,x,W,b):\n",
        "    dEdx=dEdy*W\n",
        "    dEdW=dEdy*x\n",
        "    dEdb=dEdy*1\n",
        "    return dEdx,dEdW,dEdb\n",
        "\n",
        "def Softmax_ForProp(x):\n",
        "    exp=np.exp(x)\n",
        "    y=exp/np.sum(exp)\n",
        "    return y\n",
        "\n",
        "def Softmax_BackProp(y,t):\n",
        "    dEdx=y-t\n",
        "    return dEdx\n",
        "\n",
        "def Sigmoid_ForProp(x):\n",
        "    y= 1/(1+np.exp(-x))\n",
        "    return y\n",
        "\n",
        "def Sigmoid_BackProp(dEdy,x):\n",
        "    dEdx=dEdy* Sigmoid_ForProp(x)*(1-Sigmoid_ForProp(x))\n",
        "    return dEdx\n",
        "\n",
        "def Rectified_ForProp(x):\n",
        "    if(x>0):\n",
        "      y=x\n",
        "    else:\n",
        "      y=0\n",
        "    return y\n",
        "\n",
        "def Rectified_BackProp(dEdy,x):\n",
        "    dEdx=(x>0)*dEdy\n",
        "    return dEdx\n",
        "\n",
        "\n",
        "# you can also create your own class which includes each layer"
      ]
    },
    {
      "cell_type": "code",
      "execution_count": null,
      "metadata": {
        "id": "qXLpXUgo6-5v"
      },
      "outputs": [],
      "source": [
        "def feed_forward():\n",
        "    A1=train_data\n",
        "def accuracy():\n",
        "  \n"
      ]
    },
    {
      "cell_type": "code",
      "execution_count": null,
      "metadata": {
        "id": "jMLeRKqdvJ88"
      },
      "outputs": [],
      "source": [
        "## training\n",
        "for i in range(epochs):\n",
        "    for step in range(len(training_data)):\n",
        "        \n",
        "    # Forward-propagation\n",
        "    \n",
        "    \n",
        "    # Bakcward-propagation\n",
        "    \n",
        "    \n",
        "    \n",
        "    # Parameters Updating (Gradient descent)\n",
        "    \n",
        "    \n",
        "    # Use validation data to evaluate model"
      ]
    },
    {
      "cell_type": "code",
      "execution_count": null,
      "metadata": {
        "id": "YkIarEYOsNIL"
      },
      "outputs": [],
      "source": [
        "# Using test_images and test_labels to do the final test"
      ]
    },
    {
      "cell_type": "code",
      "execution_count": null,
      "metadata": {
        "id": "83d2qq4oCvy6"
      },
      "outputs": [],
      "source": [
        "# plot accuracy and loss curves\n"
      ]
    }
  ],
  "metadata": {
    "accelerator": "GPU",
    "colab": {
      "collapsed_sections": [],
      "provenance": [],
      "toc_visible": true
    },
    "kernelspec": {
      "display_name": "Python 3.9.6 64-bit",
      "language": "python",
      "name": "python3"
    },
    "language_info": {
      "name": "python",
      "version": "3.9.6"
    },
    "vscode": {
      "interpreter": {
        "hash": "81794d4967e6c3204c66dcd87b604927b115b27c00565d3d43f05ba2f3a2cb0d"
      }
    }
  },
  "nbformat": 4,
  "nbformat_minor": 0
}
